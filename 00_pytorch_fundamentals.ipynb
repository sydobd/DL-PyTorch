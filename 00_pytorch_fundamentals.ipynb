{
  "nbformat": 4,
  "nbformat_minor": 0,
  "metadata": {
    "colab": {
      "provenance": [],
      "authorship_tag": "ABX9TyN23NoUSOseyVbF/e8fv2TD",
      "include_colab_link": true
    },
    "kernelspec": {
      "name": "python3",
      "display_name": "Python 3"
    },
    "language_info": {
      "name": "python"
    }
  },
  "cells": [
    {
      "cell_type": "markdown",
      "metadata": {
        "id": "view-in-github",
        "colab_type": "text"
      },
      "source": [
        "<a href=\"https://colab.research.google.com/github/sydobd/DL-PyTorch/blob/main/00_pytorch_fundamentals.ipynb\" target=\"_parent\"><img src=\"https://colab.research.google.com/assets/colab-badge.svg\" alt=\"Open In Colab\"/></a>"
      ]
    },
    {
      "cell_type": "markdown",
      "source": [
        "## 00_Pytorch_Fundamentals\n",
        "\n",
        "https://www.learnpytorch.io/00_pytorch_fundamentals/"
      ],
      "metadata": {
        "id": "KZxDWXp4jV_G"
      }
    },
    {
      "cell_type": "code",
      "execution_count": null,
      "metadata": {
        "colab": {
          "base_uri": "https://localhost:8080/"
        },
        "id": "AG3Lv8A9irwj",
        "outputId": "e602b264-bba7-43fb-cac7-48fd8738e195"
      },
      "outputs": [
        {
          "output_type": "stream",
          "name": "stdout",
          "text": [
            "2.1.0+cu121\n"
          ]
        }
      ],
      "source": [
        "import torch\n",
        "import pandas as pd\n",
        "import numpy as np\n",
        "import matplotlib.pyplot as plt\n",
        "print(torch.__version__)"
      ]
    },
    {
      "cell_type": "markdown",
      "source": [
        "## Introduction to Tensors\n",
        "\n",
        "###Creating Tensors\n",
        "\n",
        "Pytorch tensors are created using `torch.Tensor()` = https://pytorch.org/docs/stable/tensors.html"
      ],
      "metadata": {
        "id": "eM-JS2AZkUPX"
      }
    },
    {
      "cell_type": "code",
      "source": [
        "# scalar\n",
        "scalar = torch.tensor(7)\n",
        "scalar"
      ],
      "metadata": {
        "colab": {
          "base_uri": "https://localhost:8080/"
        },
        "id": "faWXuzCoLmrL",
        "outputId": "e61912c3-61f4-40ca-d2ea-57ebbd08747d"
      },
      "execution_count": null,
      "outputs": [
        {
          "output_type": "execute_result",
          "data": {
            "text/plain": [
              "tensor(7)"
            ]
          },
          "metadata": {},
          "execution_count": 2
        }
      ]
    },
    {
      "cell_type": "code",
      "source": [
        "scalar.ndim"
      ],
      "metadata": {
        "colab": {
          "base_uri": "https://localhost:8080/"
        },
        "id": "OtiR_u2iNGK0",
        "outputId": "c9a4e5e8-1a45-455c-ee54-13b0366f6478"
      },
      "execution_count": null,
      "outputs": [
        {
          "output_type": "execute_result",
          "data": {
            "text/plain": [
              "0"
            ]
          },
          "metadata": {},
          "execution_count": 3
        }
      ]
    },
    {
      "cell_type": "code",
      "source": [
        "#Get tensor back as Python int\n",
        "scalar.item()"
      ],
      "metadata": {
        "colab": {
          "base_uri": "https://localhost:8080/"
        },
        "id": "8mGHZlNXPB6z",
        "outputId": "decf5bbe-8ec3-4b25-8a3b-05647842a0d4"
      },
      "execution_count": null,
      "outputs": [
        {
          "output_type": "execute_result",
          "data": {
            "text/plain": [
              "7"
            ]
          },
          "metadata": {},
          "execution_count": 4
        }
      ]
    },
    {
      "cell_type": "code",
      "source": [
        "# vector\n",
        "vector = torch.tensor([7, 7])\n",
        "vector"
      ],
      "metadata": {
        "colab": {
          "base_uri": "https://localhost:8080/"
        },
        "id": "r1ebeT_9PPN-",
        "outputId": "b0c24867-cbc6-41c0-ff84-6c441d25284e"
      },
      "execution_count": null,
      "outputs": [
        {
          "output_type": "execute_result",
          "data": {
            "text/plain": [
              "tensor([7, 7])"
            ]
          },
          "metadata": {},
          "execution_count": 5
        }
      ]
    },
    {
      "cell_type": "code",
      "source": [
        "# Pair of square brackets\n",
        "vector.ndim"
      ],
      "metadata": {
        "colab": {
          "base_uri": "https://localhost:8080/"
        },
        "id": "vVdNcguzPaLR",
        "outputId": "4c180571-c4ca-424e-c384-58fd4195ede6"
      },
      "execution_count": null,
      "outputs": [
        {
          "output_type": "execute_result",
          "data": {
            "text/plain": [
              "1"
            ]
          },
          "metadata": {},
          "execution_count": 6
        }
      ]
    },
    {
      "cell_type": "code",
      "source": [
        "# 2x1 elements, since by default its a column matrix\n",
        "vector.shape"
      ],
      "metadata": {
        "colab": {
          "base_uri": "https://localhost:8080/"
        },
        "id": "ClNe8iuPPgTn",
        "outputId": "92a254b5-b213-456c-827e-f192961ab728"
      },
      "execution_count": null,
      "outputs": [
        {
          "output_type": "execute_result",
          "data": {
            "text/plain": [
              "torch.Size([2])"
            ]
          },
          "metadata": {},
          "execution_count": 7
        }
      ]
    },
    {
      "cell_type": "code",
      "source": [
        "# MATRIX - write in capital letter is convention\n",
        "MATRIX = torch.tensor([[7, 8],\n",
        "                       [9, 10]])\n",
        "MATRIX"
      ],
      "metadata": {
        "colab": {
          "base_uri": "https://localhost:8080/"
        },
        "id": "FrsDXK6zPkhW",
        "outputId": "01b9a118-8da6-4642-bf8f-20be6c1cb623"
      },
      "execution_count": null,
      "outputs": [
        {
          "output_type": "execute_result",
          "data": {
            "text/plain": [
              "tensor([[ 7,  8],\n",
              "        [ 9, 10]])"
            ]
          },
          "metadata": {},
          "execution_count": 8
        }
      ]
    },
    {
      "cell_type": "code",
      "source": [
        "MATRIX.ndim"
      ],
      "metadata": {
        "colab": {
          "base_uri": "https://localhost:8080/"
        },
        "id": "5ocEygwuQFsH",
        "outputId": "140e92c4-337e-4bc4-c290-5a4f3f0cb63b"
      },
      "execution_count": null,
      "outputs": [
        {
          "output_type": "execute_result",
          "data": {
            "text/plain": [
              "2"
            ]
          },
          "metadata": {},
          "execution_count": 9
        }
      ]
    },
    {
      "cell_type": "code",
      "source": [
        "MATRIX[0]"
      ],
      "metadata": {
        "colab": {
          "base_uri": "https://localhost:8080/"
        },
        "id": "bNhAdns0Qmv4",
        "outputId": "be398b6c-0c97-423a-dae2-c3e777991458"
      },
      "execution_count": null,
      "outputs": [
        {
          "output_type": "execute_result",
          "data": {
            "text/plain": [
              "tensor([7, 8])"
            ]
          },
          "metadata": {},
          "execution_count": 10
        }
      ]
    },
    {
      "cell_type": "code",
      "source": [
        "MATRIX.shape"
      ],
      "metadata": {
        "colab": {
          "base_uri": "https://localhost:8080/"
        },
        "id": "qFteYBh7Qrop",
        "outputId": "26cb0eb4-b39e-4fc6-f5f8-337635af9ca9"
      },
      "execution_count": null,
      "outputs": [
        {
          "output_type": "execute_result",
          "data": {
            "text/plain": [
              "torch.Size([2, 2])"
            ]
          },
          "metadata": {},
          "execution_count": 11
        }
      ]
    },
    {
      "cell_type": "code",
      "source": [
        "# TENSOR\n",
        "TENSOR = torch.tensor([[[1,2,3],\n",
        "                        [4,5,6],\n",
        "                        [7,8,9]]])\n",
        "TENSOR"
      ],
      "metadata": {
        "colab": {
          "base_uri": "https://localhost:8080/"
        },
        "id": "DNaVbbClQuLv",
        "outputId": "a8959827-a06a-419f-a945-2d05064c31d2"
      },
      "execution_count": null,
      "outputs": [
        {
          "output_type": "execute_result",
          "data": {
            "text/plain": [
              "tensor([[[1, 2, 3],\n",
              "         [4, 5, 6],\n",
              "         [7, 8, 9]]])"
            ]
          },
          "metadata": {},
          "execution_count": 12
        }
      ]
    },
    {
      "cell_type": "code",
      "source": [
        "TENSOR.ndim"
      ],
      "metadata": {
        "colab": {
          "base_uri": "https://localhost:8080/"
        },
        "id": "IMKTFEpYQ_vv",
        "outputId": "0e5817bf-2080-42d0-e9c9-959187b88f0b"
      },
      "execution_count": null,
      "outputs": [
        {
          "output_type": "execute_result",
          "data": {
            "text/plain": [
              "3"
            ]
          },
          "metadata": {},
          "execution_count": 13
        }
      ]
    },
    {
      "cell_type": "code",
      "source": [
        "TENSOR.shape\n",
        "# we have 1 3x3 tensor"
      ],
      "metadata": {
        "colab": {
          "base_uri": "https://localhost:8080/"
        },
        "id": "7hDPyOCIRTKW",
        "outputId": "a65e4647-a62b-4e9c-bea3-fb5b436c9075"
      },
      "execution_count": null,
      "outputs": [
        {
          "output_type": "execute_result",
          "data": {
            "text/plain": [
              "torch.Size([1, 3, 3])"
            ]
          },
          "metadata": {},
          "execution_count": 14
        }
      ]
    },
    {
      "cell_type": "code",
      "source": [
        "TENSOR[0]"
      ],
      "metadata": {
        "colab": {
          "base_uri": "https://localhost:8080/"
        },
        "id": "PHGLURxbRV7O",
        "outputId": "53b19daf-bf3a-486b-8f7b-e2a657e0e4bb"
      },
      "execution_count": null,
      "outputs": [
        {
          "output_type": "execute_result",
          "data": {
            "text/plain": [
              "tensor([[1, 2, 3],\n",
              "        [4, 5, 6],\n",
              "        [7, 8, 9]])"
            ]
          },
          "metadata": {},
          "execution_count": 15
        }
      ]
    },
    {
      "cell_type": "code",
      "source": [
        "TENSOR[0][1][1]"
      ],
      "metadata": {
        "colab": {
          "base_uri": "https://localhost:8080/"
        },
        "id": "PJuvYynlfpGF",
        "outputId": "3d446315-64d4-492a-9955-e595e5ffb722"
      },
      "execution_count": null,
      "outputs": [
        {
          "output_type": "execute_result",
          "data": {
            "text/plain": [
              "tensor(5)"
            ]
          },
          "metadata": {},
          "execution_count": 16
        }
      ]
    },
    {
      "cell_type": "code",
      "source": [
        "TENSOR2 = torch.tensor([[[1,2,3],\n",
        "                        [4,5,6],\n",
        "                        [7,8,9]],\n",
        "                       [[1,2,3],\n",
        "                        [4,5,6],\n",
        "                        [7,8,9]]])"
      ],
      "metadata": {
        "id": "JR6dvKhvTRFU"
      },
      "execution_count": null,
      "outputs": []
    },
    {
      "cell_type": "code",
      "source": [
        "TENSOR2.shape"
      ],
      "metadata": {
        "colab": {
          "base_uri": "https://localhost:8080/"
        },
        "id": "om6AAcvATaGk",
        "outputId": "ab7daeeb-d086-4ed1-d630-2949a322a29e"
      },
      "execution_count": null,
      "outputs": [
        {
          "output_type": "execute_result",
          "data": {
            "text/plain": [
              "torch.Size([2, 3, 3])"
            ]
          },
          "metadata": {},
          "execution_count": 18
        }
      ]
    },
    {
      "cell_type": "code",
      "source": [
        "TENSOR3 = torch.tensor([[[1,2,3,6],\n",
        "                        [4,5,6,6],\n",
        "                        [7,8,9,6]],\n",
        "                       [[1,2,3,6],\n",
        "                        [4,5,6,6],\n",
        "                        [7,8,9,6]]])"
      ],
      "metadata": {
        "id": "zZFZAqfXVMR1"
      },
      "execution_count": null,
      "outputs": []
    },
    {
      "cell_type": "code",
      "source": [
        "TENSOR3.shape\n",
        "# How many brackets after first bracket - 2\n",
        "# How many brackets after second bracket - 3\n",
        "# How many elements in last bracket - 4"
      ],
      "metadata": {
        "colab": {
          "base_uri": "https://localhost:8080/"
        },
        "id": "Hz5Cd_tsVQPA",
        "outputId": "e8d00f3c-feb8-4cea-96f9-74d49f7d9a40"
      },
      "execution_count": null,
      "outputs": [
        {
          "output_type": "execute_result",
          "data": {
            "text/plain": [
              "torch.Size([2, 3, 4])"
            ]
          },
          "metadata": {},
          "execution_count": 20
        }
      ]
    },
    {
      "cell_type": "code",
      "source": [
        "TENSOR3.ndim\n",
        "# How many bracket pairs - 3"
      ],
      "metadata": {
        "colab": {
          "base_uri": "https://localhost:8080/"
        },
        "id": "7G8CRxG3VxnP",
        "outputId": "46e3950d-a8f4-4ac5-a8ba-ddc0a5f3095e"
      },
      "execution_count": null,
      "outputs": [
        {
          "output_type": "execute_result",
          "data": {
            "text/plain": [
              "3"
            ]
          },
          "metadata": {},
          "execution_count": 21
        }
      ]
    },
    {
      "cell_type": "markdown",
      "source": [
        "### Random Tensors\n",
        "\n",
        "Why random tensors?\n",
        "\n",
        "Random tensors are important because the way many neutral network learn is that they start with tensors full of random numbers and then adjust those random numbers to better represent the data\n",
        "\n",
        "`Start with random numbers -> look at data -> update random numbers -> look at data -> update random numbers`\n",
        "\n",
        "Torch random tensors - https://pytorch.org/docs/stable/generated/torch.rand.html"
      ],
      "metadata": {
        "id": "zwvJtIInV0Td"
      }
    },
    {
      "cell_type": "code",
      "source": [
        "# Create a random tensor of size (3,4)\n",
        "random_tensor = torch.rand(3, 4)\n",
        "random_tensor"
      ],
      "metadata": {
        "colab": {
          "base_uri": "https://localhost:8080/"
        },
        "id": "XJrws555WcrF",
        "outputId": "ec9d1f22-74e3-4f65-8d08-af3f3c7a5dfe"
      },
      "execution_count": null,
      "outputs": [
        {
          "output_type": "execute_result",
          "data": {
            "text/plain": [
              "tensor([[0.0537, 0.1978, 0.8316, 0.1630],\n",
              "        [0.8526, 0.6997, 0.2474, 0.3765],\n",
              "        [0.4820, 0.3482, 0.9364, 0.3696]])"
            ]
          },
          "metadata": {},
          "execution_count": 22
        }
      ]
    },
    {
      "cell_type": "code",
      "source": [
        "random_tensor.shape"
      ],
      "metadata": {
        "colab": {
          "base_uri": "https://localhost:8080/"
        },
        "id": "8Lm-C7flXfoU",
        "outputId": "c36e24d1-1e52-46eb-cf60-e5b883991681"
      },
      "execution_count": null,
      "outputs": [
        {
          "output_type": "execute_result",
          "data": {
            "text/plain": [
              "torch.Size([3, 4])"
            ]
          },
          "metadata": {},
          "execution_count": 23
        }
      ]
    },
    {
      "cell_type": "code",
      "source": [
        "random_tensor.ndim"
      ],
      "metadata": {
        "colab": {
          "base_uri": "https://localhost:8080/"
        },
        "id": "E_1oMHgOXojP",
        "outputId": "84ee994f-1ba0-4523-a78a-10d210e8031a"
      },
      "execution_count": null,
      "outputs": [
        {
          "output_type": "execute_result",
          "data": {
            "text/plain": [
              "2"
            ]
          },
          "metadata": {},
          "execution_count": 24
        }
      ]
    },
    {
      "cell_type": "code",
      "source": [
        "# Create a random tensor with similar shape to an image tensor\n",
        "random_image_size_tensor = torch.rand(size=(3, 224, 224)) # height, width, color channels (R, G, B)\n",
        "random_image_size_tensor.shape, random_image_size_tensor.ndim"
      ],
      "metadata": {
        "colab": {
          "base_uri": "https://localhost:8080/"
        },
        "id": "6ghKodFdXr2_",
        "outputId": "00ffbb44-c4d7-4c92-b99c-76713e98d9d7"
      },
      "execution_count": null,
      "outputs": [
        {
          "output_type": "execute_result",
          "data": {
            "text/plain": [
              "(torch.Size([3, 224, 224]), 3)"
            ]
          },
          "metadata": {},
          "execution_count": 25
        }
      ]
    },
    {
      "cell_type": "markdown",
      "source": [
        " ### Zeros and ones"
      ],
      "metadata": {
        "id": "6A0FLRX5YdI_"
      }
    },
    {
      "cell_type": "code",
      "source": [
        "# Create a tensor of all zeros\n",
        "zeros = torch.zeros(3, 4)\n",
        "zeros"
      ],
      "metadata": {
        "colab": {
          "base_uri": "https://localhost:8080/"
        },
        "id": "Ggr2cisqZRB0",
        "outputId": "35c4bc68-d222-4abe-fbbe-e9f45fa2cdc3"
      },
      "execution_count": null,
      "outputs": [
        {
          "output_type": "execute_result",
          "data": {
            "text/plain": [
              "tensor([[0., 0., 0., 0.],\n",
              "        [0., 0., 0., 0.],\n",
              "        [0., 0., 0., 0.]])"
            ]
          },
          "metadata": {},
          "execution_count": 26
        }
      ]
    },
    {
      "cell_type": "code",
      "source": [
        "# Create a tensor of all ones\n",
        "ones = torch.ones(3, 4)\n",
        "ones"
      ],
      "metadata": {
        "colab": {
          "base_uri": "https://localhost:8080/"
        },
        "id": "Gju7cspgZX3B",
        "outputId": "a63c7957-c6d2-40a5-ac7c-7e60f1d5d8ed"
      },
      "execution_count": null,
      "outputs": [
        {
          "output_type": "execute_result",
          "data": {
            "text/plain": [
              "tensor([[1., 1., 1., 1.],\n",
              "        [1., 1., 1., 1.],\n",
              "        [1., 1., 1., 1.]])"
            ]
          },
          "metadata": {},
          "execution_count": 27
        }
      ]
    },
    {
      "cell_type": "code",
      "source": [
        "ones.dtype"
      ],
      "metadata": {
        "colab": {
          "base_uri": "https://localhost:8080/"
        },
        "id": "DuHUwIN5Zmc9",
        "outputId": "af590f72-dee7-417c-92c8-923d259fb15b"
      },
      "execution_count": null,
      "outputs": [
        {
          "output_type": "execute_result",
          "data": {
            "text/plain": [
              "torch.float32"
            ]
          },
          "metadata": {},
          "execution_count": 28
        }
      ]
    },
    {
      "cell_type": "markdown",
      "source": [
        "### Create a range of tensors and tensors-like"
      ],
      "metadata": {
        "id": "921IBJtjZtMV"
      }
    },
    {
      "cell_type": "code",
      "source": [
        "# Use torch.range() and get deprecated message, use torch.arange()\n",
        "torch.range(1, 11)"
      ],
      "metadata": {
        "colab": {
          "base_uri": "https://localhost:8080/"
        },
        "id": "lHhdxO3oaI4S",
        "outputId": "5967483e-a024-40fb-ff61-96de7b9904c0"
      },
      "execution_count": null,
      "outputs": [
        {
          "output_type": "stream",
          "name": "stderr",
          "text": [
            "<ipython-input-29-de5287cb4a61>:2: UserWarning: torch.range is deprecated and will be removed in a future release because its behavior is inconsistent with Python's range builtin. Instead, use torch.arange, which produces values in [start, end).\n",
            "  torch.range(1, 11)\n"
          ]
        },
        {
          "output_type": "execute_result",
          "data": {
            "text/plain": [
              "tensor([ 1.,  2.,  3.,  4.,  5.,  6.,  7.,  8.,  9., 10., 11.])"
            ]
          },
          "metadata": {},
          "execution_count": 29
        }
      ]
    },
    {
      "cell_type": "code",
      "source": [
        "one_to_ten = torch.arange(1, 11)\n",
        "#torch.arange(start=1, end=11, step=2)\n",
        "one_to_ten"
      ],
      "metadata": {
        "colab": {
          "base_uri": "https://localhost:8080/"
        },
        "id": "LS8E0wBxaOSv",
        "outputId": "b29f122c-0ce9-4300-8fb0-5b2e922127d4"
      },
      "execution_count": null,
      "outputs": [
        {
          "output_type": "execute_result",
          "data": {
            "text/plain": [
              "tensor([ 1,  2,  3,  4,  5,  6,  7,  8,  9, 10])"
            ]
          },
          "metadata": {},
          "execution_count": 30
        }
      ]
    },
    {
      "cell_type": "code",
      "source": [
        "random_range = torch.arange(start=89, end=200, step=25)\n",
        "random_range"
      ],
      "metadata": {
        "colab": {
          "base_uri": "https://localhost:8080/"
        },
        "id": "IeUcUKIOaVW2",
        "outputId": "53a8c86f-245e-44c0-a3aa-d513554af3bc"
      },
      "execution_count": null,
      "outputs": [
        {
          "output_type": "execute_result",
          "data": {
            "text/plain": [
              "tensor([ 89, 114, 139, 164, 189])"
            ]
          },
          "metadata": {},
          "execution_count": 31
        }
      ]
    },
    {
      "cell_type": "code",
      "source": [
        "#create zeros tensor of shape like provided tensor\n",
        "ten_zeros = torch.zeros_like(one_to_ten)\n",
        "ten_zeros"
      ],
      "metadata": {
        "colab": {
          "base_uri": "https://localhost:8080/"
        },
        "id": "QFGTbEuWa76n",
        "outputId": "8a5ac409-206b-4bc3-fb8f-0c11c89c55f4"
      },
      "execution_count": null,
      "outputs": [
        {
          "output_type": "execute_result",
          "data": {
            "text/plain": [
              "tensor([0, 0, 0, 0, 0, 0, 0, 0, 0, 0])"
            ]
          },
          "metadata": {},
          "execution_count": 32
        }
      ]
    },
    {
      "cell_type": "markdown",
      "source": [
        "## Tensor Datatype\n",
        "**Note:** Tensor datatype is one of the 3 big errors you'll run into with Pytorch & Deep Learning:\n",
        "1. Tensors not right datatype\n",
        "2. Tensors not right shape\n",
        "3. Tensors not right device\n",
        "\n",
        "32 bit is single precision,\n",
        "16 bit is half,\n",
        "64 bit is double precision.\n",
        "\n",
        "**Precision:** How much detail is stored in a number?"
      ],
      "metadata": {
        "id": "D8gSBhfObVha"
      }
    },
    {
      "cell_type": "code",
      "source": [
        "# Float 32 tensor\n",
        "float_32_tensor = torch.tensor([3.0, 6.0, 9.0],\n",
        "                               dtype=None, # what datatype is the tensor (float32 or float16)\n",
        "                               device=None, #what device is your tensor on\n",
        "                               requires_grad=False) # whether or not to track gradients with this tensor operation\n",
        "float_32_tensor"
      ],
      "metadata": {
        "colab": {
          "base_uri": "https://localhost:8080/"
        },
        "id": "NACI4zjlbS_T",
        "outputId": "4f45204d-9d83-4486-ea07-fd09a4cd1836"
      },
      "execution_count": null,
      "outputs": [
        {
          "output_type": "execute_result",
          "data": {
            "text/plain": [
              "tensor([3., 6., 9.])"
            ]
          },
          "metadata": {},
          "execution_count": 33
        }
      ]
    },
    {
      "cell_type": "code",
      "source": [
        "float_32_tensor.dtype"
      ],
      "metadata": {
        "colab": {
          "base_uri": "https://localhost:8080/"
        },
        "id": "_Y0c9WLEn9aq",
        "outputId": "e0e1b3e6-5d4e-47c5-b8ae-ea05b04f6ef8"
      },
      "execution_count": null,
      "outputs": [
        {
          "output_type": "execute_result",
          "data": {
            "text/plain": [
              "torch.float32"
            ]
          },
          "metadata": {},
          "execution_count": 34
        }
      ]
    },
    {
      "cell_type": "code",
      "source": [
        "float_16_tensor = float_32_tensor.type(torch.float16)\n",
        "float_16_tensor"
      ],
      "metadata": {
        "colab": {
          "base_uri": "https://localhost:8080/"
        },
        "id": "DG75gcbEoAks",
        "outputId": "d337fcbe-2a43-4aad-9fa1-0543b03968f6"
      },
      "execution_count": null,
      "outputs": [
        {
          "output_type": "execute_result",
          "data": {
            "text/plain": [
              "tensor([3., 6., 9.], dtype=torch.float16)"
            ]
          },
          "metadata": {},
          "execution_count": 35
        }
      ]
    },
    {
      "cell_type": "code",
      "source": [
        "float_mix = float_32_tensor * float_16_tensor\n",
        "float_mix"
      ],
      "metadata": {
        "colab": {
          "base_uri": "https://localhost:8080/"
        },
        "id": "YSxWAUYJqL4V",
        "outputId": "9e03b3c7-5c9e-4d99-a8ce-185fb9d6fb4d"
      },
      "execution_count": null,
      "outputs": [
        {
          "output_type": "execute_result",
          "data": {
            "text/plain": [
              "tensor([ 9., 36., 81.])"
            ]
          },
          "metadata": {},
          "execution_count": 36
        }
      ]
    },
    {
      "cell_type": "code",
      "source": [
        "int_32_tensor = torch.tensor([3, 6, 9], dtype=torch.int32)\n",
        "int_32_tensor"
      ],
      "metadata": {
        "id": "nDy0txnEqZvR",
        "colab": {
          "base_uri": "https://localhost:8080/"
        },
        "outputId": "9c694ddd-d6d2-4129-90e0-b5c4c275ea81"
      },
      "execution_count": null,
      "outputs": [
        {
          "output_type": "execute_result",
          "data": {
            "text/plain": [
              "tensor([3, 6, 9], dtype=torch.int32)"
            ]
          },
          "metadata": {},
          "execution_count": 37
        }
      ]
    },
    {
      "cell_type": "code",
      "source": [
        "float_32_tensor * int_32_tensor"
      ],
      "metadata": {
        "colab": {
          "base_uri": "https://localhost:8080/"
        },
        "id": "A5ip-_TmsPql",
        "outputId": "fdf5ce36-b3db-4d20-f6c1-3da0744a645d"
      },
      "execution_count": null,
      "outputs": [
        {
          "output_type": "execute_result",
          "data": {
            "text/plain": [
              "tensor([ 9., 36., 81.])"
            ]
          },
          "metadata": {},
          "execution_count": 38
        }
      ]
    },
    {
      "cell_type": "markdown",
      "source": [
        "### Getting information from Tensor (Tensor Attributes)\n",
        "\n",
        "1. Tensors not right datatype - to get datatype from a tensor, can use `tensor.dtype`\n",
        "2. Tensors not right shape - to get shape from a tensor, can use `tensor.shape`\n",
        "3. Tensors not right device - to get device from a tensor, can use `tensor.device`"
      ],
      "metadata": {
        "id": "PzjTIllysg75"
      }
    },
    {
      "cell_type": "code",
      "source": [
        "# Create a tensor\n",
        "some_tensor = torch.rand(3, 4)\n",
        "some_tensor"
      ],
      "metadata": {
        "colab": {
          "base_uri": "https://localhost:8080/"
        },
        "id": "vLszDH0NtBDn",
        "outputId": "6d5f4a15-6bec-48c2-92b5-530071c114a5"
      },
      "execution_count": null,
      "outputs": [
        {
          "output_type": "execute_result",
          "data": {
            "text/plain": [
              "tensor([[0.9475, 0.3189, 0.9759, 0.9014],\n",
              "        [0.3306, 0.8143, 0.0439, 0.8946],\n",
              "        [0.4745, 0.4668, 0.8787, 0.6510]])"
            ]
          },
          "metadata": {},
          "execution_count": 39
        }
      ]
    },
    {
      "cell_type": "code",
      "source": [
        "# Find out details about some_tensor\n",
        "print(some_tensor)\n",
        "print(f\"Datatype of tensor: {some_tensor.dtype}\")\n",
        "print(f\"Shape of tensor: {some_tensor.shape}\")\n",
        "print(f\"Device of tensor: {some_tensor.device}\")"
      ],
      "metadata": {
        "colab": {
          "base_uri": "https://localhost:8080/"
        },
        "id": "ybDg9kp7tKZO",
        "outputId": "8cea479b-fe8e-4acf-fce7-0511d0fec17c"
      },
      "execution_count": null,
      "outputs": [
        {
          "output_type": "stream",
          "name": "stdout",
          "text": [
            "tensor([[0.9475, 0.3189, 0.9759, 0.9014],\n",
            "        [0.3306, 0.8143, 0.0439, 0.8946],\n",
            "        [0.4745, 0.4668, 0.8787, 0.6510]])\n",
            "Datatype of tensor: torch.float32\n",
            "Shape of tensor: torch.Size([3, 4])\n",
            "Device of tensor: cpu\n"
          ]
        }
      ]
    },
    {
      "cell_type": "code",
      "source": [
        "some_tensor.size() #size() is a function"
      ],
      "metadata": {
        "colab": {
          "base_uri": "https://localhost:8080/"
        },
        "id": "UEvf7mf4oMhN",
        "outputId": "a1704ebd-e9b7-4ab4-b56d-39a6e6bc7257"
      },
      "execution_count": null,
      "outputs": [
        {
          "output_type": "execute_result",
          "data": {
            "text/plain": [
              "torch.Size([3, 4])"
            ]
          },
          "metadata": {},
          "execution_count": 41
        }
      ]
    },
    {
      "cell_type": "code",
      "source": [
        "some_tensor.shape #shape is an attribute"
      ],
      "metadata": {
        "colab": {
          "base_uri": "https://localhost:8080/"
        },
        "id": "VG8ad5gUobXn",
        "outputId": "96c97727-e4ac-43ce-b594-1102e633bbc9"
      },
      "execution_count": null,
      "outputs": [
        {
          "output_type": "execute_result",
          "data": {
            "text/plain": [
              "torch.Size([3, 4])"
            ]
          },
          "metadata": {},
          "execution_count": 42
        }
      ]
    },
    {
      "cell_type": "markdown",
      "source": [
        "### Manipulating Tensors (Tensor operations)\n",
        "\n",
        "Tensor operations includes:\n",
        "1. Addition\n",
        "2. Subtraction\n",
        "3. Multiplication (element wise)\n",
        "4. Division\n",
        "5. Matrix Multiplication"
      ],
      "metadata": {
        "id": "I3txYjCPtvH0"
      }
    },
    {
      "cell_type": "code",
      "source": [
        "# Create a tensor and add 10 to it\n",
        "tensor = torch.tensor([1, 2, 3])\n",
        "tensor + 10"
      ],
      "metadata": {
        "colab": {
          "base_uri": "https://localhost:8080/"
        },
        "id": "OXwyNqGvv18y",
        "outputId": "8f030612-937a-495a-9b72-06df724fb55a"
      },
      "execution_count": null,
      "outputs": [
        {
          "output_type": "execute_result",
          "data": {
            "text/plain": [
              "tensor([11, 12, 13])"
            ]
          },
          "metadata": {},
          "execution_count": 43
        }
      ]
    },
    {
      "cell_type": "code",
      "source": [
        "# Multiply tensor by 10\n",
        "tensor * 10"
      ],
      "metadata": {
        "colab": {
          "base_uri": "https://localhost:8080/"
        },
        "id": "Cr0x0C_kwBaY",
        "outputId": "cb373141-eb0c-49b6-bdd8-23a084c9ebc3"
      },
      "execution_count": null,
      "outputs": [
        {
          "output_type": "execute_result",
          "data": {
            "text/plain": [
              "tensor([10, 20, 30])"
            ]
          },
          "metadata": {},
          "execution_count": 44
        }
      ]
    },
    {
      "cell_type": "code",
      "source": [
        "# Subtract tensor by 10\n",
        "tensor - 10"
      ],
      "metadata": {
        "colab": {
          "base_uri": "https://localhost:8080/"
        },
        "id": "5f2KL8aNwGBA",
        "outputId": "aaf8ba0c-4924-43ae-ddb1-504c8a561a9c"
      },
      "execution_count": null,
      "outputs": [
        {
          "output_type": "execute_result",
          "data": {
            "text/plain": [
              "tensor([-9, -8, -7])"
            ]
          },
          "metadata": {},
          "execution_count": 45
        }
      ]
    },
    {
      "cell_type": "code",
      "source": [
        "# Try out Pytorch in-built functions\n",
        "torch.mul(tensor, 10)"
      ],
      "metadata": {
        "colab": {
          "base_uri": "https://localhost:8080/"
        },
        "id": "wW_3-YvYwNjA",
        "outputId": "81d9db0a-25c7-410f-b3b6-8471a843b744"
      },
      "execution_count": null,
      "outputs": [
        {
          "output_type": "execute_result",
          "data": {
            "text/plain": [
              "tensor([10, 20, 30])"
            ]
          },
          "metadata": {},
          "execution_count": 46
        }
      ]
    },
    {
      "cell_type": "code",
      "source": [
        "torch.add(tensor, 10)"
      ],
      "metadata": {
        "colab": {
          "base_uri": "https://localhost:8080/"
        },
        "id": "NX6Rw0ZTwVPv",
        "outputId": "1c6e80ac-95cc-46ba-8cf9-cef7bee749d3"
      },
      "execution_count": null,
      "outputs": [
        {
          "output_type": "execute_result",
          "data": {
            "text/plain": [
              "tensor([11, 12, 13])"
            ]
          },
          "metadata": {},
          "execution_count": 47
        }
      ]
    },
    {
      "cell_type": "code",
      "source": [
        "torch.div(tensor, 3)"
      ],
      "metadata": {
        "colab": {
          "base_uri": "https://localhost:8080/"
        },
        "id": "64dBld8uwpWO",
        "outputId": "df26e7da-c19b-4b02-92ff-2f19ce1cd749"
      },
      "execution_count": null,
      "outputs": [
        {
          "output_type": "execute_result",
          "data": {
            "text/plain": [
              "tensor([0.3333, 0.6667, 1.0000])"
            ]
          },
          "metadata": {},
          "execution_count": 55
        }
      ]
    },
    {
      "cell_type": "markdown",
      "source": [
        "### Matrix Multiplication\n",
        "\n",
        "Two main ways of performing multiplication in neutral networks and deeplearning\n",
        "1. Element-wise Multiplication\n",
        "2. Matrix Multiplication (dot product)\n",
        "\n",
        "There are two main rules that performing matrix multiplication needs ro satisfy:\n",
        "1. The **inner dimensions** must match:\n",
        "* `(3, 2) @ (3, 2)` wont work\n",
        "* `(2, 3) @ (3, 2)` will work\n",
        "* `(3, 2) @ (2, 3)` will work\n",
        "2. The resulting matrix has the shape of the **outer dimension**L\n",
        "* `(2, 3) @ (3, 2) -> (2, 2)`\n",
        "* `(3, 2) @ (2, 3) -> (3, 3)`"
      ],
      "metadata": {
        "id": "sYtB1AHPwuve"
      }
    },
    {
      "cell_type": "code",
      "source": [
        "torch.matmul(torch.rand(2, 3), torch.rand(3, 2))"
      ],
      "metadata": {
        "colab": {
          "base_uri": "https://localhost:8080/"
        },
        "id": "ZzJDhtxRZ4z-",
        "outputId": "4db9874b-937d-4a59-fea4-11be971b6e01"
      },
      "execution_count": null,
      "outputs": [
        {
          "output_type": "execute_result",
          "data": {
            "text/plain": [
              "tensor([[0.6804, 0.5220],\n",
              "        [0.9561, 1.2264]])"
            ]
          },
          "metadata": {},
          "execution_count": 49
        }
      ]
    },
    {
      "cell_type": "code",
      "source": [
        "# Element-wise Multiplication\n",
        "print(tensor, \"*\", tensor)\n",
        "print(f\"Equals: {tensor * tensor}\")"
      ],
      "metadata": {
        "colab": {
          "base_uri": "https://localhost:8080/"
        },
        "id": "ox9dVEvaxxQW",
        "outputId": "4c74c46f-b145-4da0-9ec6-8df5c662aff2"
      },
      "execution_count": null,
      "outputs": [
        {
          "output_type": "stream",
          "name": "stdout",
          "text": [
            "tensor([1, 2, 3]) * tensor([1, 2, 3])\n",
            "Equals: tensor([1, 4, 9])\n"
          ]
        }
      ]
    },
    {
      "cell_type": "code",
      "source": [
        "# Matrix Multiplication\n",
        "torch.matmul(tensor, tensor)"
      ],
      "metadata": {
        "colab": {
          "base_uri": "https://localhost:8080/"
        },
        "id": "qa2y6URmyLcs",
        "outputId": "19658d7c-4c03-4c30-dd14-2de079103f38"
      },
      "execution_count": null,
      "outputs": [
        {
          "output_type": "execute_result",
          "data": {
            "text/plain": [
              "tensor(14)"
            ]
          },
          "metadata": {},
          "execution_count": 51
        }
      ]
    },
    {
      "cell_type": "code",
      "source": [
        "%%time\n",
        "value = 0\n",
        "for i in range(len(tensor)):\n",
        "  value += tensor[i] * tensor[i]\n",
        "print(value)"
      ],
      "metadata": {
        "colab": {
          "base_uri": "https://localhost:8080/"
        },
        "id": "UjXoETgpyl3D",
        "outputId": "fcf8a59f-f414-445b-b2c3-cace4c039f30"
      },
      "execution_count": null,
      "outputs": [
        {
          "output_type": "stream",
          "name": "stdout",
          "text": [
            "tensor(14)\n",
            "CPU times: user 2.09 ms, sys: 21 µs, total: 2.11 ms\n",
            "Wall time: 4.68 ms\n"
          ]
        }
      ]
    },
    {
      "cell_type": "code",
      "source": [
        "%%time\n",
        "torch.matmul(tensor, tensor)"
      ],
      "metadata": {
        "colab": {
          "base_uri": "https://localhost:8080/"
        },
        "id": "e_327FNjzBQa",
        "outputId": "c5d4f19f-3e2e-4a3d-bb0b-28011ba98c92"
      },
      "execution_count": null,
      "outputs": [
        {
          "output_type": "stream",
          "name": "stdout",
          "text": [
            "CPU times: user 66 µs, sys: 12 µs, total: 78 µs\n",
            "Wall time: 84.2 µs\n"
          ]
        },
        {
          "output_type": "execute_result",
          "data": {
            "text/plain": [
              "tensor(14)"
            ]
          },
          "metadata": {},
          "execution_count": 53
        }
      ]
    },
    {
      "cell_type": "markdown",
      "source": [
        "### One of the most common errors in deep learning is shape errors"
      ],
      "metadata": {
        "id": "F55Hp7SBybjZ"
      }
    },
    {
      "cell_type": "code",
      "source": [
        "# Shapes for matrix multiplication\n",
        "tensor_A = torch.tensor([[1, 2],\n",
        "                         [3, 4],\n",
        "                         [5, 6]])\n",
        "\n",
        "tensor_B = torch.tensor([[7, 10],\n",
        "                         [8, 11],\n",
        "                         [9, 12]])\n",
        "\n",
        "# tensor_A @ tensor_B = torch.mm(tensor_A, tensor_B) = tensor.matmul(tensor_A, tensor_B)\n",
        "# tensor_A @ tensor_B\n",
        "# throws an error as shape are different, inner dimensions are not same\n",
        "tensor_A.shape, tensor_B.shape"
      ],
      "metadata": {
        "colab": {
          "base_uri": "https://localhost:8080/"
        },
        "id": "z7nD-9hgakc5",
        "outputId": "9c4dcc47-0048-497a-a27b-9ee480ad7b20"
      },
      "execution_count": null,
      "outputs": [
        {
          "output_type": "execute_result",
          "data": {
            "text/plain": [
              "(torch.Size([3, 2]), torch.Size([3, 2]))"
            ]
          },
          "metadata": {},
          "execution_count": 58
        }
      ]
    },
    {
      "cell_type": "markdown",
      "source": [
        "##To fix the shape issues, we can manipulate the shape of one of our rensor using **transpose**\n",
        "\n",
        "##A **transpose** switches the axes or dimension of a given tensor."
      ],
      "metadata": {
        "id": "F-HSmNlHb4Ic"
      }
    },
    {
      "cell_type": "code",
      "source": [
        "tensor_B.T, tensor_B.T.shape"
      ],
      "metadata": {
        "id": "1Ce0Kzl9cQ0x",
        "colab": {
          "base_uri": "https://localhost:8080/"
        },
        "outputId": "4ba12cca-65a4-445c-ef80-a1f0d4a39f50"
      },
      "execution_count": null,
      "outputs": [
        {
          "output_type": "execute_result",
          "data": {
            "text/plain": [
              "(tensor([[ 7,  8,  9],\n",
              "         [10, 11, 12]]),\n",
              " torch.Size([2, 3]))"
            ]
          },
          "metadata": {},
          "execution_count": 59
        }
      ]
    },
    {
      "cell_type": "code",
      "source": [
        "tensor_B, tensor_B.shape"
      ],
      "metadata": {
        "id": "GScbm2hAccu4",
        "colab": {
          "base_uri": "https://localhost:8080/"
        },
        "outputId": "bf7e2669-3d8c-458b-e920-e4f4a12b898e"
      },
      "execution_count": null,
      "outputs": [
        {
          "output_type": "execute_result",
          "data": {
            "text/plain": [
              "(tensor([[ 7, 10],\n",
              "         [ 8, 11],\n",
              "         [ 9, 12]]),\n",
              " torch.Size([3, 2]))"
            ]
          },
          "metadata": {},
          "execution_count": 60
        }
      ]
    },
    {
      "cell_type": "code",
      "source": [
        "# The matrix multiplication operation works when tensor_B is transposed\n",
        "print(f\"Original shapes: tensor_A = {tensor_A.shape}, tensor_B = {tensor_B.shape}\")\n",
        "print(f\"New shapes: tensor_A = {tensor_A.shape} (same as before), tensor_B = {tensor_B.T.shape}\")\n",
        "print(f\"Multiplying: {tensor_A.shape} @ {tensor_B.T.shape} <- inner dimensions must match\")\n",
        "print(\"Output:\\n\")\n",
        "output = torch.matmul(tensor_A, tensor_B.T)\n",
        "print(output)\n",
        "print(f\"\\nOutput shape: {output.shape}\")\n"
      ],
      "metadata": {
        "id": "nfXDp1FfcsSS",
        "colab": {
          "base_uri": "https://localhost:8080/"
        },
        "outputId": "affef3a3-f349-4f7b-af16-da57130a7e26"
      },
      "execution_count": null,
      "outputs": [
        {
          "output_type": "stream",
          "name": "stdout",
          "text": [
            "Original shapes: tensor_A = torch.Size([3, 2]), tensor_B = torch.Size([3, 2])\n",
            "New shapes: tensor_A = torch.Size([3, 2]) (same as before), tensor_B = torch.Size([2, 3])\n",
            "Multiplying: torch.Size([3, 2]) @ torch.Size([2, 3]) <- inner dimensions must match\n",
            "Output:\n",
            "\n",
            "tensor([[ 27,  30,  33],\n",
            "        [ 61,  68,  75],\n",
            "        [ 95, 106, 117]])\n",
            "\n",
            "Output shape: torch.Size([3, 3])\n"
          ]
        }
      ]
    },
    {
      "cell_type": "markdown",
      "source": [
        "## Finding the min, max, mean, sum, etc (tensor aggregation)"
      ],
      "metadata": {
        "id": "vzHNB29ieVQF"
      }
    },
    {
      "cell_type": "code",
      "source": [
        "# Create a tensor\n",
        "x = torch.arange(1, 100, 10)\n",
        "x, x.dtype"
      ],
      "metadata": {
        "id": "98C45I0Fc7xl",
        "colab": {
          "base_uri": "https://localhost:8080/"
        },
        "outputId": "482912c9-e478-4788-a1a9-7a787200bfd7"
      },
      "execution_count": null,
      "outputs": [
        {
          "output_type": "execute_result",
          "data": {
            "text/plain": [
              "(tensor([ 1, 11, 21, 31, 41, 51, 61, 71, 81, 91]), torch.int64)"
            ]
          },
          "metadata": {},
          "execution_count": 62
        }
      ]
    },
    {
      "cell_type": "code",
      "source": [
        "# Find the min\n",
        "torch.min(x), x.min()"
      ],
      "metadata": {
        "id": "FcnBNCyghuUy",
        "colab": {
          "base_uri": "https://localhost:8080/"
        },
        "outputId": "a45447d3-fcf0-4e02-ba30-c9f46ba80d7b"
      },
      "execution_count": null,
      "outputs": [
        {
          "output_type": "execute_result",
          "data": {
            "text/plain": [
              "(tensor(1), tensor(1))"
            ]
          },
          "metadata": {},
          "execution_count": 63
        }
      ]
    },
    {
      "cell_type": "code",
      "source": [
        "# Find the max\n",
        "torch.max(x), x.max()"
      ],
      "metadata": {
        "id": "MzXWLaZscet9",
        "colab": {
          "base_uri": "https://localhost:8080/"
        },
        "outputId": "d20fa263-e1b0-47f3-f82b-b0753ab741f9"
      },
      "execution_count": null,
      "outputs": [
        {
          "output_type": "execute_result",
          "data": {
            "text/plain": [
              "(tensor(91), tensor(91))"
            ]
          },
          "metadata": {},
          "execution_count": 64
        }
      ]
    },
    {
      "cell_type": "code",
      "source": [
        "\n",
        "# Note: torch.mean() function requires a tensor of float 32 datatype to work (tensor not right datatype)\n",
        "torch.mean(x.type(torch.float32)), x.type(torch.float32).mean()"
      ],
      "metadata": {
        "id": "it1eyydHiOKG",
        "colab": {
          "base_uri": "https://localhost:8080/"
        },
        "outputId": "be201099-8af1-414c-9b67-0ce866b714e6"
      },
      "execution_count": null,
      "outputs": [
        {
          "output_type": "execute_result",
          "data": {
            "text/plain": [
              "(tensor(5.), tensor(5.))"
            ]
          },
          "metadata": {},
          "execution_count": 113
        }
      ]
    },
    {
      "cell_type": "code",
      "source": [
        "# Find the sum\n",
        "torch.sum(x), x.sum()"
      ],
      "metadata": {
        "id": "CopboLSXiPQ2",
        "colab": {
          "base_uri": "https://localhost:8080/"
        },
        "outputId": "478e9897-ccd4-4af2-aef4-63246619c292"
      },
      "execution_count": null,
      "outputs": [
        {
          "output_type": "execute_result",
          "data": {
            "text/plain": [
              "(tensor(460), tensor(460))"
            ]
          },
          "metadata": {},
          "execution_count": 66
        }
      ]
    },
    {
      "cell_type": "markdown",
      "source": [
        "## Finding the positional min and max"
      ],
      "metadata": {
        "id": "FkfqO_ywiPTU"
      }
    },
    {
      "cell_type": "code",
      "source": [
        "x"
      ],
      "metadata": {
        "id": "P-EgzDkTjvAa",
        "colab": {
          "base_uri": "https://localhost:8080/"
        },
        "outputId": "4f346555-9fa9-438b-b1be-4a5636f7b107"
      },
      "execution_count": null,
      "outputs": [
        {
          "output_type": "execute_result",
          "data": {
            "text/plain": [
              "tensor([ 1, 11, 21, 31, 41, 51, 61, 71, 81, 91])"
            ]
          },
          "metadata": {},
          "execution_count": 67
        }
      ]
    },
    {
      "cell_type": "code",
      "source": [
        "# Find the position in tensor that has the minimum value with the argmin() -> returns the index position of target tensor where the minimum value occurs\n",
        "x.argmin()"
      ],
      "metadata": {
        "id": "Apr7_u5Ojw1h",
        "colab": {
          "base_uri": "https://localhost:8080/"
        },
        "outputId": "bb65406d-df58-47f6-b30e-f9978c55d2b5"
      },
      "execution_count": null,
      "outputs": [
        {
          "output_type": "execute_result",
          "data": {
            "text/plain": [
              "tensor(0)"
            ]
          },
          "metadata": {},
          "execution_count": 68
        }
      ]
    },
    {
      "cell_type": "code",
      "source": [
        "x[0]"
      ],
      "metadata": {
        "id": "wi-prBqqjzWY",
        "colab": {
          "base_uri": "https://localhost:8080/"
        },
        "outputId": "5d30da03-4e38-4991-967d-e115ab645c19"
      },
      "execution_count": null,
      "outputs": [
        {
          "output_type": "execute_result",
          "data": {
            "text/plain": [
              "tensor(1)"
            ]
          },
          "metadata": {},
          "execution_count": 69
        }
      ]
    },
    {
      "cell_type": "code",
      "source": [
        "# Find the position in tensor that has the maximum value with the argmin() -> returns the index position of target tensor where the maximum value occurs\n",
        "x.argmax()"
      ],
      "metadata": {
        "id": "CjTEPHpgkUVz",
        "colab": {
          "base_uri": "https://localhost:8080/"
        },
        "outputId": "47da7d68-4eb9-429d-8c5e-f5317c63ead7"
      },
      "execution_count": null,
      "outputs": [
        {
          "output_type": "execute_result",
          "data": {
            "text/plain": [
              "tensor(9)"
            ]
          },
          "metadata": {},
          "execution_count": 70
        }
      ]
    },
    {
      "cell_type": "code",
      "source": [
        "x[9]"
      ],
      "metadata": {
        "id": "kxHWOAh2kkS8",
        "colab": {
          "base_uri": "https://localhost:8080/"
        },
        "outputId": "3039a7f1-5794-4cf8-c5c1-c5fcba5086ac"
      },
      "execution_count": null,
      "outputs": [
        {
          "output_type": "execute_result",
          "data": {
            "text/plain": [
              "tensor(91)"
            ]
          },
          "metadata": {},
          "execution_count": 71
        }
      ]
    },
    {
      "cell_type": "markdown",
      "source": [
        "## Reshaping, stacking, squeezing and unsqueezing tensors\n",
        "* Reshaping - Reshapes an input tensor to a defined shape\n",
        "* View - Returns a view of an input tensor of certain shape but keep the smae memory as the original tensor\n",
        "* Stacking - Combine multiple tensors on top of each other (vstack) or side by side (hstack)\n",
        "* Squeeze - Remove all `1` dimensions from a tensor\n",
        "* Unsqueeze - Add a `1` dimension to a target tensor\n",
        "* Permute - Return a view of the input with dimensions permuted (swapped) in a certain way"
      ],
      "metadata": {
        "id": "yoyw_Gzkkl3l"
      }
    },
    {
      "cell_type": "code",
      "source": [
        "# Create a tensor\n",
        "x = torch.arange(1, 10)\n",
        "x, x.shape"
      ],
      "metadata": {
        "id": "Hjcf9fnXmP-C",
        "colab": {
          "base_uri": "https://localhost:8080/"
        },
        "outputId": "f9c79b47-3260-4a17-99c7-542ed33b02db"
      },
      "execution_count": null,
      "outputs": [
        {
          "output_type": "execute_result",
          "data": {
            "text/plain": [
              "(tensor([1, 2, 3, 4, 5, 6, 7, 8, 9]), torch.Size([9]))"
            ]
          },
          "metadata": {},
          "execution_count": 72
        }
      ]
    },
    {
      "cell_type": "code",
      "source": [
        "# Add an extra dimension\n",
        "x_reshaped = x.reshape(9, 1)\n",
        "x_reshaped, x_reshaped.shape"
      ],
      "metadata": {
        "id": "rx6uBk1gmims",
        "colab": {
          "base_uri": "https://localhost:8080/"
        },
        "outputId": "a0b54e83-406b-447b-9ea3-30e4003fca8a"
      },
      "execution_count": null,
      "outputs": [
        {
          "output_type": "execute_result",
          "data": {
            "text/plain": [
              "(tensor([[1],\n",
              "         [2],\n",
              "         [3],\n",
              "         [4],\n",
              "         [5],\n",
              "         [6],\n",
              "         [7],\n",
              "         [8],\n",
              "         [9]]),\n",
              " torch.Size([9, 1]))"
            ]
          },
          "metadata": {},
          "execution_count": 73
        }
      ]
    },
    {
      "cell_type": "code",
      "source": [
        "# Change the view\n",
        "z = x.view(1, 9)\n",
        "z, z.shape"
      ],
      "metadata": {
        "id": "YHO69g_cl2aE",
        "colab": {
          "base_uri": "https://localhost:8080/"
        },
        "outputId": "2091f07d-8875-489e-a5c5-446d9870277d"
      },
      "execution_count": null,
      "outputs": [
        {
          "output_type": "execute_result",
          "data": {
            "text/plain": [
              "(tensor([[1, 2, 3, 4, 5, 6, 7, 8, 9]]), torch.Size([1, 9]))"
            ]
          },
          "metadata": {},
          "execution_count": 74
        }
      ]
    },
    {
      "cell_type": "code",
      "source": [
        "# Changing z changes x (because a view of a tensor shares the same memory as the original input)\n",
        "z[:, 0] = 5\n",
        "z, x"
      ],
      "metadata": {
        "id": "EWo0Fe4rl2uc",
        "colab": {
          "base_uri": "https://localhost:8080/"
        },
        "outputId": "8e4f1953-bb84-4d6e-c7b9-4956d7316e87"
      },
      "execution_count": null,
      "outputs": [
        {
          "output_type": "execute_result",
          "data": {
            "text/plain": [
              "(tensor([[5, 2, 3, 4, 5, 6, 7, 8, 9]]), tensor([5, 2, 3, 4, 5, 6, 7, 8, 9]))"
            ]
          },
          "metadata": {},
          "execution_count": 75
        }
      ]
    },
    {
      "cell_type": "code",
      "source": [
        "# Stack tensors on top of each other\n",
        "x_stacked = torch.stack([x, x, x, x], dim = 0)\n",
        "x_stacked"
      ],
      "metadata": {
        "id": "NW9f6Cecl2yI",
        "colab": {
          "base_uri": "https://localhost:8080/"
        },
        "outputId": "449cea64-e814-4cb9-df96-966b31cd5e16"
      },
      "execution_count": null,
      "outputs": [
        {
          "output_type": "execute_result",
          "data": {
            "text/plain": [
              "tensor([[5, 2, 3, 4, 5, 6, 7, 8, 9],\n",
              "        [5, 2, 3, 4, 5, 6, 7, 8, 9],\n",
              "        [5, 2, 3, 4, 5, 6, 7, 8, 9],\n",
              "        [5, 2, 3, 4, 5, 6, 7, 8, 9]])"
            ]
          },
          "metadata": {},
          "execution_count": 76
        }
      ]
    },
    {
      "cell_type": "code",
      "source": [
        "# Stack tensors on side of each other\n",
        "x_stacked = torch.stack([x, x, x, x], dim = 1)\n",
        "x_stacked"
      ],
      "metadata": {
        "id": "BxCyOHpQoke0",
        "colab": {
          "base_uri": "https://localhost:8080/"
        },
        "outputId": "10f0ef65-17c9-4d9b-8e9b-f7cba519fbd1"
      },
      "execution_count": null,
      "outputs": [
        {
          "output_type": "execute_result",
          "data": {
            "text/plain": [
              "tensor([[5, 5, 5, 5],\n",
              "        [2, 2, 2, 2],\n",
              "        [3, 3, 3, 3],\n",
              "        [4, 4, 4, 4],\n",
              "        [5, 5, 5, 5],\n",
              "        [6, 6, 6, 6],\n",
              "        [7, 7, 7, 7],\n",
              "        [8, 8, 8, 8],\n",
              "        [9, 9, 9, 9]])"
            ]
          },
          "metadata": {},
          "execution_count": 77
        }
      ]
    },
    {
      "cell_type": "code",
      "source": [
        "# torch.squeeze() - removes all single dimensions from a target tensor\n",
        "print(f\"Previous Tensor: {x_reshaped}\")\n",
        "print(f\"Previous Shape: {x_reshaped.shape}\")\n",
        "\n",
        "# Remove extra dimensios from x_reshaped\n",
        "x_squeezed = x_reshaped.squeeze()\n",
        "print(f\"\\n New Tensor: {x_squeezed}\")\n",
        "print(f\"New Shape: {x_squeezed.shape}\")"
      ],
      "metadata": {
        "id": "oj2uiowsFJle",
        "colab": {
          "base_uri": "https://localhost:8080/"
        },
        "outputId": "c78ca455-d532-43ba-8c36-1fbd6a4dc7bd"
      },
      "execution_count": null,
      "outputs": [
        {
          "output_type": "stream",
          "name": "stdout",
          "text": [
            "Previous Tensor: tensor([[5],\n",
            "        [2],\n",
            "        [3],\n",
            "        [4],\n",
            "        [5],\n",
            "        [6],\n",
            "        [7],\n",
            "        [8],\n",
            "        [9]])\n",
            "Previous Shape: torch.Size([9, 1])\n",
            "\n",
            " New Tensor: tensor([5, 2, 3, 4, 5, 6, 7, 8, 9])\n",
            "New Shape: torch.Size([9])\n"
          ]
        }
      ]
    },
    {
      "cell_type": "code",
      "source": [
        "# torch.unsqueeze() - adds a single dimension to a target tensor at a specific dimensions\n",
        "print(f\"Previous Tensor: {x_squeezed}\")\n",
        "print(f\"Previous Shape: {x_squeezed.shape}\")\n",
        "\n",
        "# Add an extra dimension with unsqueeze\n",
        "x_unsqueezed = x_squeezed.unsqueeze(dim=0)\n",
        "print(f\"\\nNew Tensor: {x_unsqueezed}\")\n",
        "print(f\"New Shape: {x_unsqueezed.shape}\")"
      ],
      "metadata": {
        "id": "AQIl4UWdF3yZ",
        "colab": {
          "base_uri": "https://localhost:8080/"
        },
        "outputId": "9a8dfb5c-7894-4b4c-daf4-7afea16f8c77"
      },
      "execution_count": null,
      "outputs": [
        {
          "output_type": "stream",
          "name": "stdout",
          "text": [
            "Previous Tensor: tensor([5, 2, 3, 4, 5, 6, 7, 8, 9])\n",
            "Previous Shape: torch.Size([9])\n",
            "\n",
            "New Tensor: tensor([[5, 2, 3, 4, 5, 6, 7, 8, 9]])\n",
            "New Shape: torch.Size([1, 9])\n"
          ]
        }
      ]
    },
    {
      "cell_type": "code",
      "source": [
        "# torch.permute - rearrange the dimension of a target tensor in a specified order\n",
        "# Returns a view of the original tensor input with its dimensions permuted.\n",
        "x_original = torch.rand(size=(224, 224, 3)) # [height, width, color_channels]\n",
        "\n",
        "\n",
        "# Permute the original tensor to rearrange the axis (or dim) order\n",
        "x_permuted = x_original.permute(2, 0, 1) # shifts the axis 2->0, 0->1, 1->2\n",
        "\n",
        "\n",
        "print(f\"Previous shape: {x_original.shape}\")\n",
        "print(f\"New shape: {x_permuted.shape}\")  # [color_channels, height, width]"
      ],
      "metadata": {
        "id": "xpC5dt1WGvZr",
        "colab": {
          "base_uri": "https://localhost:8080/"
        },
        "outputId": "88aadbd3-f056-4782-d82d-837c0be63ee7"
      },
      "execution_count": null,
      "outputs": [
        {
          "output_type": "stream",
          "name": "stdout",
          "text": [
            "Previous shape: torch.Size([224, 224, 3])\n",
            "New shape: torch.Size([3, 224, 224])\n"
          ]
        }
      ]
    },
    {
      "cell_type": "code",
      "source": [
        "x_original[0, 0, 0] = 786"
      ],
      "metadata": {
        "id": "ebRvyDVlHiK1"
      },
      "execution_count": null,
      "outputs": []
    },
    {
      "cell_type": "code",
      "source": [
        "x_permuted[0, 0, 0] # x_permuted shares same view as x_original"
      ],
      "metadata": {
        "id": "FKBzRkfFNpBZ",
        "colab": {
          "base_uri": "https://localhost:8080/"
        },
        "outputId": "d232b0fb-4494-43aa-b7c4-2c9eb9ec03e4"
      },
      "execution_count": null,
      "outputs": [
        {
          "output_type": "execute_result",
          "data": {
            "text/plain": [
              "tensor(786.)"
            ]
          },
          "metadata": {},
          "execution_count": 82
        }
      ]
    },
    {
      "cell_type": "markdown",
      "source": [
        "## Indexing (Selecting data from tensors)\n",
        "\n",
        "Indexing with PyTorch is similar to indexing with Numpy"
      ],
      "metadata": {
        "id": "Wtk2OXS3N47a"
      }
    },
    {
      "cell_type": "code",
      "source": [
        "# Create a tensor\n",
        "x = torch.arange(1, 10).reshape(1, 3, 3)\n",
        "x, x.shape"
      ],
      "metadata": {
        "id": "Eem68zfVXxb-",
        "colab": {
          "base_uri": "https://localhost:8080/"
        },
        "outputId": "f8bbb8b7-afe7-43a5-9f98-6677bd12497b"
      },
      "execution_count": null,
      "outputs": [
        {
          "output_type": "execute_result",
          "data": {
            "text/plain": [
              "(tensor([[[1, 2, 3],\n",
              "          [4, 5, 6],\n",
              "          [7, 8, 9]]]),\n",
              " torch.Size([1, 3, 3]))"
            ]
          },
          "metadata": {},
          "execution_count": 83
        }
      ]
    },
    {
      "cell_type": "code",
      "source": [
        "# Let's index on our new tensor\n",
        "x[0]"
      ],
      "metadata": {
        "id": "Vm656f8fX469",
        "colab": {
          "base_uri": "https://localhost:8080/"
        },
        "outputId": "3a3cf13f-0d4e-4496-c45d-8c6753723e18"
      },
      "execution_count": null,
      "outputs": [
        {
          "output_type": "execute_result",
          "data": {
            "text/plain": [
              "tensor([[1, 2, 3],\n",
              "        [4, 5, 6],\n",
              "        [7, 8, 9]])"
            ]
          },
          "metadata": {},
          "execution_count": 84
        }
      ]
    },
    {
      "cell_type": "code",
      "source": [
        "# Let's index on the middle bracket (dim=1)\n",
        "x[0][0]"
      ],
      "metadata": {
        "id": "aMw9rtTqYHd2",
        "colab": {
          "base_uri": "https://localhost:8080/"
        },
        "outputId": "0faca285-84cb-4e02-bfd4-8063d4b851b3"
      },
      "execution_count": null,
      "outputs": [
        {
          "output_type": "execute_result",
          "data": {
            "text/plain": [
              "tensor([1, 2, 3])"
            ]
          },
          "metadata": {},
          "execution_count": 85
        }
      ]
    },
    {
      "cell_type": "code",
      "source": [
        "# Let's index on the most inner bracket (last dimension)\n",
        "x[0][2][2]"
      ],
      "metadata": {
        "id": "OYMxUabnYPdU",
        "colab": {
          "base_uri": "https://localhost:8080/"
        },
        "outputId": "a76e99a8-fd40-4f65-cb59-b62a3e1be0d6"
      },
      "execution_count": null,
      "outputs": [
        {
          "output_type": "execute_result",
          "data": {
            "text/plain": [
              "tensor(9)"
            ]
          },
          "metadata": {},
          "execution_count": 86
        }
      ]
    },
    {
      "cell_type": "code",
      "source": [
        "# You can use \":\" to select \"all\" of targer dimension\n",
        "x[:, 0]"
      ],
      "metadata": {
        "id": "Fzyy0QPOYvzQ",
        "colab": {
          "base_uri": "https://localhost:8080/"
        },
        "outputId": "79174200-e26a-43cb-c6ff-53f779f5fd67"
      },
      "execution_count": null,
      "outputs": [
        {
          "output_type": "execute_result",
          "data": {
            "text/plain": [
              "tensor([[1, 2, 3]])"
            ]
          },
          "metadata": {},
          "execution_count": 87
        }
      ]
    },
    {
      "cell_type": "code",
      "source": [
        "# Get all values of 0th and 1st dimension and only index 1 of 2nd dimension\n",
        "x[:, :, 1]"
      ],
      "metadata": {
        "id": "H8P-EQ7qY6K_",
        "colab": {
          "base_uri": "https://localhost:8080/"
        },
        "outputId": "9cf6f651-0d43-4761-cacc-35255aba9c7a"
      },
      "execution_count": null,
      "outputs": [
        {
          "output_type": "execute_result",
          "data": {
            "text/plain": [
              "tensor([[2, 5, 8]])"
            ]
          },
          "metadata": {},
          "execution_count": 88
        }
      ]
    },
    {
      "cell_type": "code",
      "source": [
        "# Get all values of 0th dimension but only the 1 index of 1st and 2nd dimensions\n",
        "x[:, 1, 1]"
      ],
      "metadata": {
        "id": "L86TQ7kwZI1Y",
        "colab": {
          "base_uri": "https://localhost:8080/"
        },
        "outputId": "0c045574-cbc5-4868-ebb6-7aa1d0e6fdd9"
      },
      "execution_count": null,
      "outputs": [
        {
          "output_type": "execute_result",
          "data": {
            "text/plain": [
              "tensor([5])"
            ]
          },
          "metadata": {},
          "execution_count": 89
        }
      ]
    },
    {
      "cell_type": "code",
      "source": [
        "# Get index 0 of 0th and 1st dimension and all values of 2nd dimension\n",
        "x[0, 0, :]"
      ],
      "metadata": {
        "id": "BDW8TBVIZ0kv",
        "colab": {
          "base_uri": "https://localhost:8080/"
        },
        "outputId": "9ba5c769-c248-4965-e7e8-416ababe8b45"
      },
      "execution_count": null,
      "outputs": [
        {
          "output_type": "execute_result",
          "data": {
            "text/plain": [
              "tensor([1, 2, 3])"
            ]
          },
          "metadata": {},
          "execution_count": 90
        }
      ]
    },
    {
      "cell_type": "code",
      "source": [
        "# Index on x to return 9\n",
        "print(x[0][2][2])\n",
        "print(x[:, 2, 2])\n",
        "\n",
        "# Index on x to return 3, 6, 9\n",
        "print(x[:, :, 2])"
      ],
      "metadata": {
        "id": "7DnP4pXqaG_7",
        "colab": {
          "base_uri": "https://localhost:8080/"
        },
        "outputId": "9849a5ee-3dab-49c2-9c98-b15267f3a8a6"
      },
      "execution_count": null,
      "outputs": [
        {
          "output_type": "stream",
          "name": "stdout",
          "text": [
            "tensor(9)\n",
            "tensor([9])\n",
            "tensor([[3, 6, 9]])\n"
          ]
        }
      ]
    },
    {
      "cell_type": "markdown",
      "source": [
        "## PyTorch tensors & NumPy\n",
        "\n",
        "NumPy is a popular scientific Python numerical computing library.\n",
        "\n",
        "And because of this, PyTorch has functionality to interact with it.\n",
        "\n",
        "* Data is NumPy, want in PyTorch tensor -> `torch.from_numpy(ndarray)`\n",
        "* PyTorch tensor -> NumPy -> `torch.Tensor.numpy()`"
      ],
      "metadata": {
        "id": "p-Ihg-lmaa0x"
      }
    },
    {
      "cell_type": "code",
      "source": [
        "# NumPy array to tensor\n",
        "import numpy as np\n",
        "\n",
        "array = np.arange(1.0, 8.0)\n",
        "tensor = torch.from_numpy(array) # warning: when converting from numpy -> pytorch, pytorch reflects numpy's default datatype of floeat64 unless specified otherwise\n",
        "array, tensor"
      ],
      "metadata": {
        "id": "W8HEqJrTbzKf",
        "colab": {
          "base_uri": "https://localhost:8080/"
        },
        "outputId": "a45087a9-27aa-4578-a9c7-88746025aa2e"
      },
      "execution_count": null,
      "outputs": [
        {
          "output_type": "execute_result",
          "data": {
            "text/plain": [
              "(array([1., 2., 3., 4., 5., 6., 7.]),\n",
              " tensor([1., 2., 3., 4., 5., 6., 7.], dtype=torch.float64))"
            ]
          },
          "metadata": {},
          "execution_count": 92
        }
      ]
    },
    {
      "cell_type": "code",
      "source": [
        "array.dtype"
      ],
      "metadata": {
        "id": "ggB-vUGrcVcJ",
        "colab": {
          "base_uri": "https://localhost:8080/"
        },
        "outputId": "a30433b1-4e83-4b89-e402-39f88d9944c2"
      },
      "execution_count": null,
      "outputs": [
        {
          "output_type": "execute_result",
          "data": {
            "text/plain": [
              "dtype('float64')"
            ]
          },
          "metadata": {},
          "execution_count": 93
        }
      ]
    },
    {
      "cell_type": "code",
      "source": [
        "tensor.dtype"
      ],
      "metadata": {
        "id": "IS_dkoeycYJl",
        "colab": {
          "base_uri": "https://localhost:8080/"
        },
        "outputId": "0aa41ba7-7024-4bad-fffd-364aeca15804"
      },
      "execution_count": null,
      "outputs": [
        {
          "output_type": "execute_result",
          "data": {
            "text/plain": [
              "torch.float64"
            ]
          },
          "metadata": {},
          "execution_count": 94
        }
      ]
    },
    {
      "cell_type": "code",
      "source": [
        "torch.arange(1.0, 10.0).dtype #default datatype float32, int32"
      ],
      "metadata": {
        "id": "IkhC1ZYmce6G",
        "colab": {
          "base_uri": "https://localhost:8080/"
        },
        "outputId": "262d4f63-e1b2-4874-9480-3858f92feeda"
      },
      "execution_count": null,
      "outputs": [
        {
          "output_type": "execute_result",
          "data": {
            "text/plain": [
              "torch.float32"
            ]
          },
          "metadata": {},
          "execution_count": 95
        }
      ]
    },
    {
      "cell_type": "code",
      "source": [
        "# Change the value of array, what will this do to `tensor`?\n",
        "array = array + 1\n",
        "array, tensor\n",
        "# from_numpy doesnt change the value of tensor, because they dont share the memory"
      ],
      "metadata": {
        "id": "cAj4NgwldSEC",
        "colab": {
          "base_uri": "https://localhost:8080/"
        },
        "outputId": "f60dc765-713c-451d-f7b5-451e569e1372"
      },
      "execution_count": null,
      "outputs": [
        {
          "output_type": "execute_result",
          "data": {
            "text/plain": [
              "(array([2., 3., 4., 5., 6., 7., 8.]),\n",
              " tensor([1., 2., 3., 4., 5., 6., 7.], dtype=torch.float64))"
            ]
          },
          "metadata": {},
          "execution_count": 96
        }
      ]
    },
    {
      "cell_type": "code",
      "source": [
        "# Tensor to NumPy array\n",
        "tensor = torch.ones(7)\n",
        "numpy_tensor = tensor.numpy()\n",
        "tensor, numpy_tensor"
      ],
      "metadata": {
        "id": "7GaTOvlNdr19",
        "colab": {
          "base_uri": "https://localhost:8080/"
        },
        "outputId": "cd3d42ec-a216-4f57-f14d-3c4105036095"
      },
      "execution_count": null,
      "outputs": [
        {
          "output_type": "execute_result",
          "data": {
            "text/plain": [
              "(tensor([1., 1., 1., 1., 1., 1., 1.]),\n",
              " array([1., 1., 1., 1., 1., 1., 1.], dtype=float32))"
            ]
          },
          "metadata": {},
          "execution_count": 97
        }
      ]
    },
    {
      "cell_type": "code",
      "source": [
        "numpy_tensor.dtype\n",
        "# default dtype of numpy is float64, int64\n",
        "# default dtype of tensor is float32, int32\n",
        "# Here numpy_tensor reflecting the default dtype of tensor because it was created from tensor"
      ],
      "metadata": {
        "id": "Jlzm42kIeMuJ",
        "colab": {
          "base_uri": "https://localhost:8080/"
        },
        "outputId": "bcb47ac3-1c83-4310-8f1a-274b72bf7945"
      },
      "execution_count": null,
      "outputs": [
        {
          "output_type": "execute_result",
          "data": {
            "text/plain": [
              "dtype('float32')"
            ]
          },
          "metadata": {},
          "execution_count": 98
        }
      ]
    },
    {
      "cell_type": "code",
      "source": [
        "# Change the tensor, what happens to `numpy_tensor`?\n",
        "tensor = tensor + 1\n",
        "tensor, numpy_tensor\n",
        "# value didnt change, because they dont share the memory"
      ],
      "metadata": {
        "id": "LttnFmp2eO-7",
        "colab": {
          "base_uri": "https://localhost:8080/"
        },
        "outputId": "786fbb68-baed-41a9-91ed-13f5931ec38a"
      },
      "execution_count": null,
      "outputs": [
        {
          "output_type": "execute_result",
          "data": {
            "text/plain": [
              "(tensor([2., 2., 2., 2., 2., 2., 2.]),\n",
              " array([1., 1., 1., 1., 1., 1., 1.], dtype=float32))"
            ]
          },
          "metadata": {},
          "execution_count": 99
        }
      ]
    },
    {
      "cell_type": "markdown",
      "source": [
        "## Reproducibility (trying to take random out of random)\n",
        "\n",
        "In short how a neural network learns:\n",
        "* `start with random number -> tensor operation -> update random number to try and make them better representation of the data -> again -> again -> again..,`\n",
        "\n",
        "* To reduce the randomness is neural networks and PyTorch comes the concept of **random seed**.\n",
        "Essentially what the random seed does is \"flavour\" the randomness."
      ],
      "metadata": {
        "id": "jKLth4WvfJld"
      }
    },
    {
      "cell_type": "code",
      "source": [
        "# Create two random tensors\n",
        "random_tensor_A = torch.rand(3, 4)\n",
        "random_tensor_B = torch.rand(3, 4)\n",
        "\n",
        "print(random_tensor_A)\n",
        "print(random_tensor_B)\n",
        "print(random_tensor_A == random_tensor_B)"
      ],
      "metadata": {
        "id": "9gS94VSzfml0",
        "colab": {
          "base_uri": "https://localhost:8080/"
        },
        "outputId": "4d88e5e0-6b99-4c19-a4d3-a9dc51515c45"
      },
      "execution_count": null,
      "outputs": [
        {
          "output_type": "stream",
          "name": "stdout",
          "text": [
            "tensor([[0.1447, 0.1686, 0.7840, 0.2328],\n",
            "        [0.8323, 0.6699, 0.8157, 0.3910],\n",
            "        [0.6786, 0.8027, 0.3864, 0.7141]])\n",
            "tensor([[0.0630, 0.1883, 0.7031, 0.4789],\n",
            "        [0.4811, 0.9801, 0.0110, 0.2645],\n",
            "        [0.2917, 0.7823, 0.5886, 0.8998]])\n",
            "tensor([[False, False, False, False],\n",
            "        [False, False, False, False],\n",
            "        [False, False, False, False]])\n"
          ]
        }
      ]
    },
    {
      "cell_type": "code",
      "source": [
        "# Let's make some random but reproducable tensors\n",
        "# Set the random seed\n",
        "RANDOM_SEED = 42\n",
        "torch.manual_seed(RANDOM_SEED) #it only works on one block of code\n",
        "random_tensor_C = torch.rand(3, 4)\n",
        "\n",
        "torch.manual_seed(RANDOM_SEED)\n",
        "random_tensor_D = torch.rand(3, 4)\n",
        "\n",
        "print(random_tensor_C)\n",
        "print(random_tensor_D)\n",
        "print(random_tensor_C == random_tensor_D)"
      ],
      "metadata": {
        "id": "BgBrZZI6t8Mb",
        "colab": {
          "base_uri": "https://localhost:8080/"
        },
        "outputId": "eeeab2e0-31fa-474f-8605-45ebeb3714ae"
      },
      "execution_count": null,
      "outputs": [
        {
          "output_type": "stream",
          "name": "stdout",
          "text": [
            "tensor([[0.8823, 0.9150, 0.3829, 0.9593],\n",
            "        [0.3904, 0.6009, 0.2566, 0.7936],\n",
            "        [0.9408, 0.1332, 0.9346, 0.5936]])\n",
            "tensor([[0.8823, 0.9150, 0.3829, 0.9593],\n",
            "        [0.3904, 0.6009, 0.2566, 0.7936],\n",
            "        [0.9408, 0.1332, 0.9346, 0.5936]])\n",
            "tensor([[True, True, True, True],\n",
            "        [True, True, True, True],\n",
            "        [True, True, True, True]])\n"
          ]
        }
      ]
    },
    {
      "cell_type": "markdown",
      "source": [
        "### Extra resources for reproducibility:\n",
        "* https://pytorch.org/docs/stable/notes/randomness.html\n",
        "* https://en.wikipedia.org/wiki/Random_seed"
      ],
      "metadata": {
        "id": "WH2zh4Bdfmor"
      }
    },
    {
      "cell_type": "markdown",
      "source": [
        "## Running tensors and PyTorch objects on the GPUs (and making faster computations)\n",
        "\n",
        "GPUs = faster computation on number, thanks to CUDA + NVIDIA hardware + PyTorch working behind the scenes to make everything excellent."
      ],
      "metadata": {
        "id": "00SBaV0qfmrX"
      }
    },
    {
      "cell_type": "markdown",
      "source": [
        "### 1. Getting a GPU\n",
        "\n",
        "1. Easiest - Use Google Colab for a free GPU (options to upgrade as well)\n",
        "2. Use your own GPU - takes a little bit of setup and requires the investment of purchasing a GPU, there's lot of options..., see this post: https://timdettmers.com/2023/01/30/which-gpu-for-deep-learning/\n",
        "3. Use cloud computing - GCP, AWS, Azure, these services allow you to rent computers on the cloud and access them\n",
        "\n",
        "For 2, 3 PyTorch + GPU drivers (CUDA) takes a little bit of setting up, to do this, refer to PyTorch documentation: https://pytorch.org/get-started/locally/\n",
        "\n"
      ],
      "metadata": {
        "id": "lfnxRjKlfmuE"
      }
    },
    {
      "cell_type": "code",
      "source": [
        "!nvidia-smi"
      ],
      "metadata": {
        "id": "uiZRdVDNyj0f",
        "colab": {
          "base_uri": "https://localhost:8080/"
        },
        "outputId": "34ffb6bc-2ead-4737-b46c-4a4cc8942cb3"
      },
      "execution_count": null,
      "outputs": [
        {
          "output_type": "stream",
          "name": "stdout",
          "text": [
            "/bin/bash: line 1: nvidia-smi: command not found\n"
          ]
        }
      ]
    },
    {
      "cell_type": "markdown",
      "source": [
        "### 2. Check for GPU access with PyTorch"
      ],
      "metadata": {
        "id": "zQJajGG9fnwF"
      }
    },
    {
      "cell_type": "code",
      "source": [
        "# Check for GPU access with PyTorch\n",
        "torch.cuda.is_available()"
      ],
      "metadata": {
        "id": "iyO2WH35fmwh",
        "colab": {
          "base_uri": "https://localhost:8080/"
        },
        "outputId": "ab5a20d6-7dc0-417d-aaec-d487a94e6223"
      },
      "execution_count": null,
      "outputs": [
        {
          "output_type": "execute_result",
          "data": {
            "text/plain": [
              "False"
            ]
          },
          "metadata": {},
          "execution_count": 103
        }
      ]
    },
    {
      "cell_type": "markdown",
      "source": [
        "For PyTorch since its capable of running compute on the GPU or CPU, its best practice to setup device agnostic code:\n",
        "https://pytorch.org/docs/stable/notes/cuda.html#best-practices\n",
        "E.g. run on GPU if available, else default to CPU"
      ],
      "metadata": {
        "id": "VovQh2Jnz5cn"
      }
    },
    {
      "cell_type": "code",
      "source": [
        "# Setup device agnostic code\n",
        "device = \"cuda\" if torch.cuda.is_available() else \"cpu\"\n",
        "device"
      ],
      "metadata": {
        "id": "qlwJOvyEy1YS",
        "colab": {
          "base_uri": "https://localhost:8080/",
          "height": 35
        },
        "outputId": "d4e7e901-0dfa-4a2c-c9c2-9e570dd05b25"
      },
      "execution_count": null,
      "outputs": [
        {
          "output_type": "execute_result",
          "data": {
            "text/plain": [
              "'cpu'"
            ],
            "application/vnd.google.colaboratory.intrinsic+json": {
              "type": "string"
            }
          },
          "metadata": {},
          "execution_count": 104
        }
      ]
    },
    {
      "cell_type": "code",
      "source": [
        "# Count number of devices\n",
        "torch.cuda.device_count()"
      ],
      "metadata": {
        "id": "x37s0QJyzjo4",
        "colab": {
          "base_uri": "https://localhost:8080/"
        },
        "outputId": "f1edea81-4404-4dc8-dfa5-303b6716ebc0"
      },
      "execution_count": null,
      "outputs": [
        {
          "output_type": "execute_result",
          "data": {
            "text/plain": [
              "0"
            ]
          },
          "metadata": {},
          "execution_count": 105
        }
      ]
    },
    {
      "cell_type": "markdown",
      "source": [
        "# 3. Putting tensors (and models) on the GPU\n",
        "\n",
        "The reason we want our tensors/models on the GPU is because using a GPU results in faster computations."
      ],
      "metadata": {
        "id": "Z_mrq5GkzoH1"
      }
    },
    {
      "cell_type": "code",
      "source": [
        "# Create a tensor (default on the CPU)\n",
        "tensor = torch.tensor([1, 2, 3])\n",
        "\n",
        "# Tensor not on GPU\n",
        "print(tensor, tensor.device)"
      ],
      "metadata": {
        "id": "B9gCiLjk0voj",
        "colab": {
          "base_uri": "https://localhost:8080/"
        },
        "outputId": "f2cffd5b-07d2-4c11-8646-2846afc5486d"
      },
      "execution_count": null,
      "outputs": [
        {
          "output_type": "stream",
          "name": "stdout",
          "text": [
            "tensor([1, 2, 3]) cpu\n"
          ]
        }
      ]
    },
    {
      "cell_type": "code",
      "source": [
        "# Move tensor to GPU (if available)\n",
        "tensor_on_gpu = tensor.to(device)\n",
        "tensor_on_gpu"
      ],
      "metadata": {
        "id": "LRoX_eWb0-4A",
        "colab": {
          "base_uri": "https://localhost:8080/"
        },
        "outputId": "9d86027a-c358-40ea-96ed-cfcc8417fbbe"
      },
      "execution_count": null,
      "outputs": [
        {
          "output_type": "execute_result",
          "data": {
            "text/plain": [
              "tensor([1, 2, 3])"
            ]
          },
          "metadata": {},
          "execution_count": 107
        }
      ]
    },
    {
      "cell_type": "markdown",
      "source": [
        "### 4. Moving tensors back to CPU"
      ],
      "metadata": {
        "id": "vckTHad71Lc_"
      }
    },
    {
      "cell_type": "code",
      "source": [
        "# If tensor is on GPU, can't transform it to NumPy\n",
        "tensor_on_gpu.numpy()"
      ],
      "metadata": {
        "id": "Gko9SREq1iEn",
        "colab": {
          "base_uri": "https://localhost:8080/"
        },
        "outputId": "9baea003-76cf-419e-a77d-d1b5361fbe81"
      },
      "execution_count": null,
      "outputs": [
        {
          "output_type": "execute_result",
          "data": {
            "text/plain": [
              "array([1, 2, 3])"
            ]
          },
          "metadata": {},
          "execution_count": 108
        }
      ]
    },
    {
      "cell_type": "code",
      "source": [
        "# To fix the GPU tensor with NumPy issue, we can first set it to the CPU\n",
        "tensor_back_on_cpu = tensor_on_gpu.cpu().numpy()\n",
        "tensor_back_on_cpu"
      ],
      "metadata": {
        "id": "HAVzMi5k1p41",
        "colab": {
          "base_uri": "https://localhost:8080/"
        },
        "outputId": "e77f9688-4167-4b7b-bd5e-6d7b534fcc13"
      },
      "execution_count": null,
      "outputs": [
        {
          "output_type": "execute_result",
          "data": {
            "text/plain": [
              "array([1, 2, 3])"
            ]
          },
          "metadata": {},
          "execution_count": 109
        }
      ]
    },
    {
      "cell_type": "code",
      "source": [
        "tensor_on_gpu"
      ],
      "metadata": {
        "id": "eGqWRz0O2ARq",
        "colab": {
          "base_uri": "https://localhost:8080/"
        },
        "outputId": "bb59258e-06f8-470e-fc4a-15feb3b79731"
      },
      "execution_count": null,
      "outputs": [
        {
          "output_type": "execute_result",
          "data": {
            "text/plain": [
              "tensor([1, 2, 3])"
            ]
          },
          "metadata": {},
          "execution_count": 110
        }
      ]
    },
    {
      "cell_type": "markdown",
      "source": [
        "## Exercise and Exra-curriculum"
      ],
      "metadata": {
        "id": "hPC3GVBB2Ei3"
      }
    }
  ]
}